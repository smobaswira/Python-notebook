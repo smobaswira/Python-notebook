{
 "cells": [
  {
   "cell_type": "code",
   "execution_count": 10,
   "id": "4863bfa0-ff2b-4cef-9ffc-aa3159820bab",
   "metadata": {
    "jupyter": {
     "source_hidden": true
    },
    "panel-layout": {
     "height": 0,
     "visible": true,
     "width": 100
    }
   },
   "outputs": [
    {
     "name": "stdout",
     "output_type": "stream",
     "text": [
      "10\n",
      "126144000\n"
     ]
    }
   ],
   "source": [
    "#creATE VARiables\n",
    "num1=10\n",
    "print(num1)\n",
    "num_years = 4\n",
    "days_per_years= 365\n",
    "hours_per_years= 24\n",
    "mins_per_hours = 60\n",
    "secs_per_min = 60\n",
    "\n",
    "#calculate number of seconds in four years\n",
    "total_sec= secs_per_min * mins_per_hours * hours_per_years *  days_per_years * num_years \n",
    "print(total_sec)\n",
    "\n"
   ]
  },
  {
   "cell_type": "code",
   "execution_count": 12,
   "id": "dd7f9b2b-2b81-4978-90ac-f1c0945fe982",
   "metadata": {
    "jupyter": {
     "source_hidden": true
    }
   },
   "outputs": [
    {
     "name": "stdout",
     "output_type": "stream",
     "text": [
      "126230400.0\n"
     ]
    }
   ],
   "source": [
    "#update to leap year\n",
    "days_per_year=365.25\n",
    "total_sec= secs_per_min * mins_per_hours * hours_per_years *  days_per_year * num_years \n",
    "print(total_sec)\n"
   ]
  },
  {
   "cell_type": "code",
   "execution_count": 16,
   "id": "feee5db9-6799-4576-a326-a1fb1fd49959",
   "metadata": {},
   "outputs": [
    {
     "name": "stdout",
     "output_type": "stream",
     "text": [
      "Samiha Mobaswira\n",
      "360\n"
     ]
    }
   ],
   "source": [
    "#excersize\n",
    "#name\n",
    "print(\"Samiha Mobaswira\")\n",
    "\n",
    "#Python\n",
    "\n",
    "#calculate\n",
    "accidents_per_hour=15\n",
    "no_of_hours=24\n",
    "accident_per_day=(accidents_per_hour*no_of_hours)\n",
    "print(accident_per_day)"
   ]
  },
  {
   "cell_type": "code",
   "execution_count": 21,
   "id": "c974e597-db92-4fe8-8ed5-9cbbd8f51c1c",
   "metadata": {},
   "outputs": [
    {
     "name": "stdout",
     "output_type": "stream",
     "text": [
      "15\n",
      "15\n"
     ]
    }
   ],
   "source": [
    "#function:adds variables\n",
    "def add(n1,n2):\n",
    "  total=n1+n2\n",
    "  return total\n",
    "\n",
    "#function calling\n",
    "num1=5\n",
    "num2=10\n",
    "sum=add(num1,num2)\n",
    "print(sum)\n",
    "\n",
    "#or\n",
    "print(add(num1,num2))"
   ]
  },
  {
   "cell_type": "code",
   "execution_count": 1,
   "id": "4758ec41-775a-43be-9a5f-53b4af7a274d",
   "metadata": {},
   "outputs": [
    {
     "name": "stdout",
     "output_type": "stream",
     "text": [
      "140800.0\n"
     ]
    }
   ],
   "source": [
    "def get_pay(num_hours):\n",
    "    pay_pretax=num_hours*2000\n",
    "    pay_aftertax=pay_pretax*(1-0.12)\n",
    "    return  pay_aftertax\n",
    "\n",
    "payment=get_pay(80)\n",
    "print(payment)\n",
    "    "
   ]
  },
  {
   "cell_type": "code",
   "execution_count": 3,
   "id": "80c42fce-7e23-43cb-adfe-8927243b6db3",
   "metadata": {},
   "outputs": [
    {
     "name": "stdout",
     "output_type": "stream",
     "text": [
      "You will get 140800.0 BDT\n"
     ]
    }
   ],
   "source": [
    "print(f\"You will get {payment} BDT\")"
   ]
  },
  {
   "cell_type": "code",
   "execution_count": 7,
   "id": "b20d98b9-4c84-4a99-93a4-861ba5dbfda3",
   "metadata": {},
   "outputs": [
    {
     "name": "stdout",
     "output_type": "stream",
     "text": [
      "120000\n"
     ]
    }
   ],
   "source": [
    "#SCOPE\n",
    "#print(pay_pretax) #local variable\n",
    "#global variable\n",
    "\n",
    "#examples\n",
    "def get_expected_cost(beds,baths):\n",
    "    cost=80000+beds*30000+baths*10000\n",
    "    return cost\n",
    "\n",
    "house1= get_expected_cost(1,1)\n",
    "print(house1)\n"
   ]
  },
  {
   "cell_type": "code",
   "execution_count": null,
   "id": "c010c060-04ee-4297-b7dd-c5a3fcb8512e",
   "metadata": {},
   "outputs": [],
   "source": []
  }
 ],
 "metadata": {
  "kernelspec": {
   "display_name": "Python 3 (ipykernel)",
   "language": "python",
   "name": "python3"
  },
  "language_info": {
   "codemirror_mode": {
    "name": "ipython",
    "version": 3
   },
   "file_extension": ".py",
   "mimetype": "text/x-python",
   "name": "python",
   "nbconvert_exporter": "python",
   "pygments_lexer": "ipython3",
   "version": "3.12.7"
  },
  "panel-cell-order": [
   "4863bfa0-ff2b-4cef-9ffc-aa3159820bab"
  ]
 },
 "nbformat": 4,
 "nbformat_minor": 5
}
